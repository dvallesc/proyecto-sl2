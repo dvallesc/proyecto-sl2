{
 "cells": [
  {
   "cell_type": "code",
   "execution_count": 60,
   "metadata": {},
   "outputs": [],
   "source": [
    "#pip install torch==1.6.0+cpu torchvision==0.7.0+cpu -f https://download.pytorch.org/whl/torch_stable.html"
   ]
  },
  {
   "cell_type": "code",
   "execution_count": 61,
   "metadata": {},
   "outputs": [],
   "source": [
    "import pandas as pd\n",
    "import matplotlib.pyplot as plt\n",
    "import matplotlib\n",
    "import seaborn as sns\n",
    "import torch.nn as nn\n",
    "import torch.nn.functional as F\n",
    "import torch\n",
    "import math\n",
    "import numpy as np\n",
    "\n",
    "%reload_ext autoreload\n",
    "%autoreload 2\n",
    "%matplotlib inline"
   ]
  },
  {
   "cell_type": "code",
   "execution_count": 62,
   "metadata": {},
   "outputs": [
    {
     "data": {
      "text/html": [
       "<div>\n",
       "<style scoped>\n",
       "    .dataframe tbody tr th:only-of-type {\n",
       "        vertical-align: middle;\n",
       "    }\n",
       "\n",
       "    .dataframe tbody tr th {\n",
       "        vertical-align: top;\n",
       "    }\n",
       "\n",
       "    .dataframe thead th {\n",
       "        text-align: right;\n",
       "    }\n",
       "</style>\n",
       "<table border=\"1\" class=\"dataframe\">\n",
       "  <thead>\n",
       "    <tr style=\"text-align: right;\">\n",
       "      <th></th>\n",
       "      <th>id</th>\n",
       "      <th>Age</th>\n",
       "      <th>Driving_License</th>\n",
       "      <th>Region_Code</th>\n",
       "      <th>Previously_Insured</th>\n",
       "      <th>Annual_Premium</th>\n",
       "      <th>Policy_Sales_Channel</th>\n",
       "      <th>Vintage</th>\n",
       "      <th>Response</th>\n",
       "    </tr>\n",
       "  </thead>\n",
       "  <tbody>\n",
       "    <tr>\n",
       "      <td>count</td>\n",
       "      <td>381109.000000</td>\n",
       "      <td>381109.000000</td>\n",
       "      <td>381109.000000</td>\n",
       "      <td>381109.000000</td>\n",
       "      <td>381109.000000</td>\n",
       "      <td>381109.000000</td>\n",
       "      <td>381109.000000</td>\n",
       "      <td>381109.000000</td>\n",
       "      <td>381109.000000</td>\n",
       "    </tr>\n",
       "    <tr>\n",
       "      <td>mean</td>\n",
       "      <td>190555.000000</td>\n",
       "      <td>38.822584</td>\n",
       "      <td>0.997869</td>\n",
       "      <td>26.388807</td>\n",
       "      <td>0.458210</td>\n",
       "      <td>30564.389581</td>\n",
       "      <td>112.034295</td>\n",
       "      <td>154.347397</td>\n",
       "      <td>0.122563</td>\n",
       "    </tr>\n",
       "    <tr>\n",
       "      <td>std</td>\n",
       "      <td>110016.836208</td>\n",
       "      <td>15.511611</td>\n",
       "      <td>0.046110</td>\n",
       "      <td>13.229888</td>\n",
       "      <td>0.498251</td>\n",
       "      <td>17213.155057</td>\n",
       "      <td>54.203995</td>\n",
       "      <td>83.671304</td>\n",
       "      <td>0.327936</td>\n",
       "    </tr>\n",
       "    <tr>\n",
       "      <td>min</td>\n",
       "      <td>1.000000</td>\n",
       "      <td>20.000000</td>\n",
       "      <td>0.000000</td>\n",
       "      <td>0.000000</td>\n",
       "      <td>0.000000</td>\n",
       "      <td>2630.000000</td>\n",
       "      <td>1.000000</td>\n",
       "      <td>10.000000</td>\n",
       "      <td>0.000000</td>\n",
       "    </tr>\n",
       "    <tr>\n",
       "      <td>25%</td>\n",
       "      <td>95278.000000</td>\n",
       "      <td>25.000000</td>\n",
       "      <td>1.000000</td>\n",
       "      <td>15.000000</td>\n",
       "      <td>0.000000</td>\n",
       "      <td>24405.000000</td>\n",
       "      <td>29.000000</td>\n",
       "      <td>82.000000</td>\n",
       "      <td>0.000000</td>\n",
       "    </tr>\n",
       "    <tr>\n",
       "      <td>50%</td>\n",
       "      <td>190555.000000</td>\n",
       "      <td>36.000000</td>\n",
       "      <td>1.000000</td>\n",
       "      <td>28.000000</td>\n",
       "      <td>0.000000</td>\n",
       "      <td>31669.000000</td>\n",
       "      <td>133.000000</td>\n",
       "      <td>154.000000</td>\n",
       "      <td>0.000000</td>\n",
       "    </tr>\n",
       "    <tr>\n",
       "      <td>75%</td>\n",
       "      <td>285832.000000</td>\n",
       "      <td>49.000000</td>\n",
       "      <td>1.000000</td>\n",
       "      <td>35.000000</td>\n",
       "      <td>1.000000</td>\n",
       "      <td>39400.000000</td>\n",
       "      <td>152.000000</td>\n",
       "      <td>227.000000</td>\n",
       "      <td>0.000000</td>\n",
       "    </tr>\n",
       "    <tr>\n",
       "      <td>max</td>\n",
       "      <td>381109.000000</td>\n",
       "      <td>85.000000</td>\n",
       "      <td>1.000000</td>\n",
       "      <td>52.000000</td>\n",
       "      <td>1.000000</td>\n",
       "      <td>540165.000000</td>\n",
       "      <td>163.000000</td>\n",
       "      <td>299.000000</td>\n",
       "      <td>1.000000</td>\n",
       "    </tr>\n",
       "  </tbody>\n",
       "</table>\n",
       "</div>"
      ],
      "text/plain": [
       "                  id            Age  Driving_License    Region_Code  \\\n",
       "count  381109.000000  381109.000000    381109.000000  381109.000000   \n",
       "mean   190555.000000      38.822584         0.997869      26.388807   \n",
       "std    110016.836208      15.511611         0.046110      13.229888   \n",
       "min         1.000000      20.000000         0.000000       0.000000   \n",
       "25%     95278.000000      25.000000         1.000000      15.000000   \n",
       "50%    190555.000000      36.000000         1.000000      28.000000   \n",
       "75%    285832.000000      49.000000         1.000000      35.000000   \n",
       "max    381109.000000      85.000000         1.000000      52.000000   \n",
       "\n",
       "       Previously_Insured  Annual_Premium  Policy_Sales_Channel  \\\n",
       "count       381109.000000   381109.000000         381109.000000   \n",
       "mean             0.458210    30564.389581            112.034295   \n",
       "std              0.498251    17213.155057             54.203995   \n",
       "min              0.000000     2630.000000              1.000000   \n",
       "25%              0.000000    24405.000000             29.000000   \n",
       "50%              0.000000    31669.000000            133.000000   \n",
       "75%              1.000000    39400.000000            152.000000   \n",
       "max              1.000000   540165.000000            163.000000   \n",
       "\n",
       "             Vintage       Response  \n",
       "count  381109.000000  381109.000000  \n",
       "mean      154.347397       0.122563  \n",
       "std        83.671304       0.327936  \n",
       "min        10.000000       0.000000  \n",
       "25%        82.000000       0.000000  \n",
       "50%       154.000000       0.000000  \n",
       "75%       227.000000       0.000000  \n",
       "max       299.000000       1.000000  "
      ]
     },
     "execution_count": 62,
     "metadata": {},
     "output_type": "execute_result"
    }
   ],
   "source": [
    "device = 'cpu'\n",
    "\n",
    "data = pd.read_csv('datasets/train.csv')\n",
    "data.describe()"
   ]
  },
  {
   "cell_type": "markdown",
   "metadata": {},
   "source": [
    "A continuación la explicación de los datos que conforman el dataset **Health Insurance Cross Sell Prediction** con origen en Kaggle y subido por Anmol Kumar, donde los dueños de seguros médicos estarán interesados en seguro de vehículos:\n",
    "* **Id**: Identificador único para el cliente.\n",
    "* **gender**: Género del cliente.\n",
    "* **Age**: Edad del cliente.\n",
    "* **Driving_license**: 0 no tiene 1 si tiene licencia de conducir.\n",
    "* **Region_code**: Código unico para la región del cliente.\n",
    "* **Previously_insured**: 1 El cliente ya tiene un seguro de vehículos, 0 el cliente no tiene seguro de vehículo.\n",
    "* **Vehicle_Age**: Edad del vehículo.\n",
    "* **Vehicle_Damage**: 1 el cliente tuvo daños en su vehículo en el pasado y 0 el cliente no ha tenido daños en su vehículo en el pasado.\n",
    "* **Annual_Premium**: La cantidad que el cliente necesita pagar como premium en el año.\n",
    "* **PolicySalesChannel**: Código anónimo del canal para alcanzar al cliente. Diferentes agentes, en correo, en teléfono, personal, etc.\n",
    "* **Vintage**: Cantidad de días que el cliente ha estado asociado con la compañía.\n",
    "* **Response**: 1 el cliente está interesado en un seguro de vehículo, 0 el cliente no está interesado. Esta es la variable Y de nuestro problema."
   ]
  },
  {
   "cell_type": "markdown",
   "metadata": {},
   "source": [
    "Transformando las columnas con atributos cualitativos a cuantitativos."
   ]
  },
  {
   "cell_type": "code",
   "execution_count": 63,
   "metadata": {},
   "outputs": [
    {
     "data": {
      "text/plain": [
       "array(['Male', 'Female'], dtype=object)"
      ]
     },
     "execution_count": 63,
     "metadata": {},
     "output_type": "execute_result"
    }
   ],
   "source": [
    "data['Gender'].unique()"
   ]
  },
  {
   "cell_type": "code",
   "execution_count": 64,
   "metadata": {},
   "outputs": [],
   "source": [
    "data['Gender']=data['Gender'].replace({\"Male\": 1, \"Female\": 0})"
   ]
  },
  {
   "cell_type": "code",
   "execution_count": 65,
   "metadata": {},
   "outputs": [
    {
     "data": {
      "text/plain": [
       "array([1, 0], dtype=int64)"
      ]
     },
     "execution_count": 65,
     "metadata": {},
     "output_type": "execute_result"
    }
   ],
   "source": [
    "data['Gender'].unique()"
   ]
  },
  {
   "cell_type": "code",
   "execution_count": 66,
   "metadata": {},
   "outputs": [
    {
     "data": {
      "text/plain": [
       "array(['> 2 Years', '1-2 Year', '< 1 Year'], dtype=object)"
      ]
     },
     "execution_count": 66,
     "metadata": {},
     "output_type": "execute_result"
    }
   ],
   "source": [
    "data['Vehicle_Age'].unique()"
   ]
  },
  {
   "cell_type": "code",
   "execution_count": 67,
   "metadata": {},
   "outputs": [],
   "source": [
    "data['Vehicle_Age']=data['Vehicle_Age'].replace({\"> 2 Years\": 3, \"1-2 Year\": 2, \"< 1 Year\": 1})"
   ]
  },
  {
   "cell_type": "code",
   "execution_count": 68,
   "metadata": {},
   "outputs": [
    {
     "data": {
      "text/plain": [
       "array([3, 2, 1], dtype=int64)"
      ]
     },
     "execution_count": 68,
     "metadata": {},
     "output_type": "execute_result"
    }
   ],
   "source": [
    "data['Vehicle_Age'].unique()"
   ]
  },
  {
   "cell_type": "code",
   "execution_count": 69,
   "metadata": {},
   "outputs": [
    {
     "data": {
      "text/plain": [
       "array(['Yes', 'No'], dtype=object)"
      ]
     },
     "execution_count": 69,
     "metadata": {},
     "output_type": "execute_result"
    }
   ],
   "source": [
    "data['Vehicle_Damage'].unique()"
   ]
  },
  {
   "cell_type": "code",
   "execution_count": 70,
   "metadata": {},
   "outputs": [],
   "source": [
    "data['Vehicle_Damage']=data['Vehicle_Damage'].replace({\"Yes\": 1, \"No\": 0})"
   ]
  },
  {
   "cell_type": "code",
   "execution_count": 71,
   "metadata": {},
   "outputs": [
    {
     "data": {
      "text/plain": [
       "array([1, 0], dtype=int64)"
      ]
     },
     "execution_count": 71,
     "metadata": {},
     "output_type": "execute_result"
    }
   ],
   "source": [
    "data['Vehicle_Damage'].unique()"
   ]
  },
  {
   "cell_type": "code",
   "execution_count": 72,
   "metadata": {},
   "outputs": [
    {
     "data": {
      "text/plain": [
       "Series([], dtype: int64)"
      ]
     },
     "execution_count": 72,
     "metadata": {},
     "output_type": "execute_result"
    }
   ],
   "source": [
    "nans=pd.isnull(data).sum()\n",
    "nans[nans>0]"
   ]
  },
  {
   "cell_type": "code",
   "execution_count": 73,
   "metadata": {},
   "outputs": [
    {
     "data": {
      "text/plain": [
       "id                      0\n",
       "Gender                  0\n",
       "Age                     0\n",
       "Driving_License         0\n",
       "Region_Code             0\n",
       "Previously_Insured      0\n",
       "Vehicle_Age             0\n",
       "Vehicle_Damage          0\n",
       "Annual_Premium          0\n",
       "Policy_Sales_Channel    0\n",
       "Vintage                 0\n",
       "Response                0\n",
       "dtype: int64"
      ]
     },
     "execution_count": 73,
     "metadata": {},
     "output_type": "execute_result"
    }
   ],
   "source": [
    "nans"
   ]
  },
  {
   "cell_type": "code",
   "execution_count": 74,
   "metadata": {},
   "outputs": [
    {
     "data": {
      "text/html": [
       "<div>\n",
       "<style scoped>\n",
       "    .dataframe tbody tr th:only-of-type {\n",
       "        vertical-align: middle;\n",
       "    }\n",
       "\n",
       "    .dataframe tbody tr th {\n",
       "        vertical-align: top;\n",
       "    }\n",
       "\n",
       "    .dataframe thead th {\n",
       "        text-align: right;\n",
       "    }\n",
       "</style>\n",
       "<table border=\"1\" class=\"dataframe\">\n",
       "  <thead>\n",
       "    <tr style=\"text-align: right;\">\n",
       "      <th></th>\n",
       "      <th>id</th>\n",
       "      <th>Gender</th>\n",
       "      <th>Age</th>\n",
       "      <th>Driving_License</th>\n",
       "      <th>Region_Code</th>\n",
       "      <th>Previously_Insured</th>\n",
       "      <th>Vehicle_Age</th>\n",
       "      <th>Vehicle_Damage</th>\n",
       "      <th>Annual_Premium</th>\n",
       "      <th>Policy_Sales_Channel</th>\n",
       "      <th>Vintage</th>\n",
       "      <th>Response</th>\n",
       "    </tr>\n",
       "  </thead>\n",
       "  <tbody>\n",
       "    <tr>\n",
       "      <td>0</td>\n",
       "      <td>1</td>\n",
       "      <td>1</td>\n",
       "      <td>44</td>\n",
       "      <td>1</td>\n",
       "      <td>28.0</td>\n",
       "      <td>0</td>\n",
       "      <td>3</td>\n",
       "      <td>1</td>\n",
       "      <td>40454.0</td>\n",
       "      <td>26.0</td>\n",
       "      <td>217</td>\n",
       "      <td>1</td>\n",
       "    </tr>\n",
       "    <tr>\n",
       "      <td>1</td>\n",
       "      <td>2</td>\n",
       "      <td>1</td>\n",
       "      <td>76</td>\n",
       "      <td>1</td>\n",
       "      <td>3.0</td>\n",
       "      <td>0</td>\n",
       "      <td>2</td>\n",
       "      <td>0</td>\n",
       "      <td>33536.0</td>\n",
       "      <td>26.0</td>\n",
       "      <td>183</td>\n",
       "      <td>0</td>\n",
       "    </tr>\n",
       "    <tr>\n",
       "      <td>2</td>\n",
       "      <td>3</td>\n",
       "      <td>1</td>\n",
       "      <td>47</td>\n",
       "      <td>1</td>\n",
       "      <td>28.0</td>\n",
       "      <td>0</td>\n",
       "      <td>3</td>\n",
       "      <td>1</td>\n",
       "      <td>38294.0</td>\n",
       "      <td>26.0</td>\n",
       "      <td>27</td>\n",
       "      <td>1</td>\n",
       "    </tr>\n",
       "    <tr>\n",
       "      <td>3</td>\n",
       "      <td>4</td>\n",
       "      <td>1</td>\n",
       "      <td>21</td>\n",
       "      <td>1</td>\n",
       "      <td>11.0</td>\n",
       "      <td>1</td>\n",
       "      <td>1</td>\n",
       "      <td>0</td>\n",
       "      <td>28619.0</td>\n",
       "      <td>152.0</td>\n",
       "      <td>203</td>\n",
       "      <td>0</td>\n",
       "    </tr>\n",
       "    <tr>\n",
       "      <td>4</td>\n",
       "      <td>5</td>\n",
       "      <td>0</td>\n",
       "      <td>29</td>\n",
       "      <td>1</td>\n",
       "      <td>41.0</td>\n",
       "      <td>1</td>\n",
       "      <td>1</td>\n",
       "      <td>0</td>\n",
       "      <td>27496.0</td>\n",
       "      <td>152.0</td>\n",
       "      <td>39</td>\n",
       "      <td>0</td>\n",
       "    </tr>\n",
       "    <tr>\n",
       "      <td>...</td>\n",
       "      <td>...</td>\n",
       "      <td>...</td>\n",
       "      <td>...</td>\n",
       "      <td>...</td>\n",
       "      <td>...</td>\n",
       "      <td>...</td>\n",
       "      <td>...</td>\n",
       "      <td>...</td>\n",
       "      <td>...</td>\n",
       "      <td>...</td>\n",
       "      <td>...</td>\n",
       "      <td>...</td>\n",
       "    </tr>\n",
       "    <tr>\n",
       "      <td>381104</td>\n",
       "      <td>381105</td>\n",
       "      <td>1</td>\n",
       "      <td>74</td>\n",
       "      <td>1</td>\n",
       "      <td>26.0</td>\n",
       "      <td>1</td>\n",
       "      <td>2</td>\n",
       "      <td>0</td>\n",
       "      <td>30170.0</td>\n",
       "      <td>26.0</td>\n",
       "      <td>88</td>\n",
       "      <td>0</td>\n",
       "    </tr>\n",
       "    <tr>\n",
       "      <td>381105</td>\n",
       "      <td>381106</td>\n",
       "      <td>1</td>\n",
       "      <td>30</td>\n",
       "      <td>1</td>\n",
       "      <td>37.0</td>\n",
       "      <td>1</td>\n",
       "      <td>1</td>\n",
       "      <td>0</td>\n",
       "      <td>40016.0</td>\n",
       "      <td>152.0</td>\n",
       "      <td>131</td>\n",
       "      <td>0</td>\n",
       "    </tr>\n",
       "    <tr>\n",
       "      <td>381106</td>\n",
       "      <td>381107</td>\n",
       "      <td>1</td>\n",
       "      <td>21</td>\n",
       "      <td>1</td>\n",
       "      <td>30.0</td>\n",
       "      <td>1</td>\n",
       "      <td>1</td>\n",
       "      <td>0</td>\n",
       "      <td>35118.0</td>\n",
       "      <td>160.0</td>\n",
       "      <td>161</td>\n",
       "      <td>0</td>\n",
       "    </tr>\n",
       "    <tr>\n",
       "      <td>381107</td>\n",
       "      <td>381108</td>\n",
       "      <td>0</td>\n",
       "      <td>68</td>\n",
       "      <td>1</td>\n",
       "      <td>14.0</td>\n",
       "      <td>0</td>\n",
       "      <td>3</td>\n",
       "      <td>1</td>\n",
       "      <td>44617.0</td>\n",
       "      <td>124.0</td>\n",
       "      <td>74</td>\n",
       "      <td>0</td>\n",
       "    </tr>\n",
       "    <tr>\n",
       "      <td>381108</td>\n",
       "      <td>381109</td>\n",
       "      <td>1</td>\n",
       "      <td>46</td>\n",
       "      <td>1</td>\n",
       "      <td>29.0</td>\n",
       "      <td>0</td>\n",
       "      <td>2</td>\n",
       "      <td>0</td>\n",
       "      <td>41777.0</td>\n",
       "      <td>26.0</td>\n",
       "      <td>237</td>\n",
       "      <td>0</td>\n",
       "    </tr>\n",
       "  </tbody>\n",
       "</table>\n",
       "<p>381109 rows × 12 columns</p>\n",
       "</div>"
      ],
      "text/plain": [
       "            id  Gender  Age  Driving_License  Region_Code  Previously_Insured  \\\n",
       "0            1       1   44                1         28.0                   0   \n",
       "1            2       1   76                1          3.0                   0   \n",
       "2            3       1   47                1         28.0                   0   \n",
       "3            4       1   21                1         11.0                   1   \n",
       "4            5       0   29                1         41.0                   1   \n",
       "...        ...     ...  ...              ...          ...                 ...   \n",
       "381104  381105       1   74                1         26.0                   1   \n",
       "381105  381106       1   30                1         37.0                   1   \n",
       "381106  381107       1   21                1         30.0                   1   \n",
       "381107  381108       0   68                1         14.0                   0   \n",
       "381108  381109       1   46                1         29.0                   0   \n",
       "\n",
       "        Vehicle_Age  Vehicle_Damage  Annual_Premium  Policy_Sales_Channel  \\\n",
       "0                 3               1         40454.0                  26.0   \n",
       "1                 2               0         33536.0                  26.0   \n",
       "2                 3               1         38294.0                  26.0   \n",
       "3                 1               0         28619.0                 152.0   \n",
       "4                 1               0         27496.0                 152.0   \n",
       "...             ...             ...             ...                   ...   \n",
       "381104            2               0         30170.0                  26.0   \n",
       "381105            1               0         40016.0                 152.0   \n",
       "381106            1               0         35118.0                 160.0   \n",
       "381107            3               1         44617.0                 124.0   \n",
       "381108            2               0         41777.0                  26.0   \n",
       "\n",
       "        Vintage  Response  \n",
       "0           217         1  \n",
       "1           183         0  \n",
       "2            27         1  \n",
       "3           203         0  \n",
       "4            39         0  \n",
       "...         ...       ...  \n",
       "381104       88         0  \n",
       "381105      131         0  \n",
       "381106      161         0  \n",
       "381107       74         0  \n",
       "381108      237         0  \n",
       "\n",
       "[381109 rows x 12 columns]"
      ]
     },
     "execution_count": 74,
     "metadata": {},
     "output_type": "execute_result"
    }
   ],
   "source": [
    "data"
   ]
  },
  {
   "cell_type": "code",
   "execution_count": 75,
   "metadata": {},
   "outputs": [
    {
     "data": {
      "image/png": "[encoded data removed]",
      "text/plain": [
       "<Figure size 864x864 with 2 Axes>"
      ]
     },
     "metadata": {
      "needs_background": "light"
     },
     "output_type": "display_data"
    }
   ],
   "source": [
    "#mapa de correlación\n",
    "f,ax=plt.subplots(figsize=(12,12))\n",
    "corr=data.corr()\n",
    "\n",
    "sns.heatmap(corr, annot=True, linewidths=.5, fmt='.2f',\n",
    "            mask= np.zeros_like(corr,dtype=np.bool), \n",
    "            square=True, ax=ax)\n",
    "\n",
    "plt.show()"
   ]
  },
  {
   "cell_type": "code",
   "execution_count": 76,
   "metadata": {},
   "outputs": [
    {
     "data": {
      "image/png": "[encoded data removed]",
      "text/plain": [
       "<Figure size 1440x1440 with 12 Axes>"
      ]
     },
     "metadata": {
      "needs_background": "light"
     },
     "output_type": "display_data"
    }
   ],
   "source": [
    "data.hist(figsize = (20,20))\n",
    "plt.show()"
   ]
  },
  {
   "cell_type": "code",
   "execution_count": 77,
   "metadata": {},
   "outputs": [
    {
     "data": {
      "text/plain": [
       "<matplotlib.axes._subplots.AxesSubplot at 0x267c543b648>"
      ]
     },
     "execution_count": 77,
     "metadata": {},
     "output_type": "execute_result"
    },
    {
     "data": {
      "image/png": "[encoded data removed]",
      "text/plain": [
       "<Figure size 1224x360 with 1 Axes>"
      ]
     },
     "metadata": {
      "needs_background": "light"
     },
     "output_type": "display_data"
    }
   ],
   "source": [
    "fig = plt.figure(figsize=(17, 5))\n",
    "grpd = data.groupby(['Region_Code'])\n",
    "_df = grpd.size().sort_values().rename('samples').reset_index()\n",
    "ordered_ids = _df.Region_Code.values.tolist()\n",
    "sns.barplot(y='samples', x='Region_Code', data=_df, order=ordered_ids)"
   ]
  },
  {
   "cell_type": "code",
   "execution_count": 78,
   "metadata": {},
   "outputs": [
    {
     "data": {
      "text/html": [
       "<div>\n",
       "<style scoped>\n",
       "    .dataframe tbody tr th:only-of-type {\n",
       "        vertical-align: middle;\n",
       "    }\n",
       "\n",
       "    .dataframe tbody tr th {\n",
       "        vertical-align: top;\n",
       "    }\n",
       "\n",
       "    .dataframe thead th {\n",
       "        text-align: right;\n",
       "    }\n",
       "</style>\n",
       "<table border=\"1\" class=\"dataframe\">\n",
       "  <thead>\n",
       "    <tr style=\"text-align: right;\">\n",
       "      <th></th>\n",
       "      <th>Gender</th>\n",
       "      <th>Age</th>\n",
       "      <th>Driving_License</th>\n",
       "      <th>Region_Code</th>\n",
       "      <th>Previously_Insured</th>\n",
       "      <th>Vehicle_Age</th>\n",
       "      <th>Vehicle_Damage</th>\n",
       "      <th>Annual_Premium</th>\n",
       "      <th>Policy_Sales_Channel</th>\n",
       "      <th>Vintage</th>\n",
       "      <th>Response</th>\n",
       "    </tr>\n",
       "  </thead>\n",
       "  <tbody>\n",
       "    <tr>\n",
       "      <td>0</td>\n",
       "      <td>1</td>\n",
       "      <td>44</td>\n",
       "      <td>1</td>\n",
       "      <td>28.0</td>\n",
       "      <td>0</td>\n",
       "      <td>3</td>\n",
       "      <td>1</td>\n",
       "      <td>40454.0</td>\n",
       "      <td>26.0</td>\n",
       "      <td>217</td>\n",
       "      <td>1</td>\n",
       "    </tr>\n",
       "    <tr>\n",
       "      <td>1</td>\n",
       "      <td>1</td>\n",
       "      <td>76</td>\n",
       "      <td>1</td>\n",
       "      <td>3.0</td>\n",
       "      <td>0</td>\n",
       "      <td>2</td>\n",
       "      <td>0</td>\n",
       "      <td>33536.0</td>\n",
       "      <td>26.0</td>\n",
       "      <td>183</td>\n",
       "      <td>0</td>\n",
       "    </tr>\n",
       "    <tr>\n",
       "      <td>2</td>\n",
       "      <td>1</td>\n",
       "      <td>47</td>\n",
       "      <td>1</td>\n",
       "      <td>28.0</td>\n",
       "      <td>0</td>\n",
       "      <td>3</td>\n",
       "      <td>1</td>\n",
       "      <td>38294.0</td>\n",
       "      <td>26.0</td>\n",
       "      <td>27</td>\n",
       "      <td>1</td>\n",
       "    </tr>\n",
       "    <tr>\n",
       "      <td>3</td>\n",
       "      <td>1</td>\n",
       "      <td>21</td>\n",
       "      <td>1</td>\n",
       "      <td>11.0</td>\n",
       "      <td>1</td>\n",
       "      <td>1</td>\n",
       "      <td>0</td>\n",
       "      <td>28619.0</td>\n",
       "      <td>152.0</td>\n",
       "      <td>203</td>\n",
       "      <td>0</td>\n",
       "    </tr>\n",
       "    <tr>\n",
       "      <td>4</td>\n",
       "      <td>0</td>\n",
       "      <td>29</td>\n",
       "      <td>1</td>\n",
       "      <td>41.0</td>\n",
       "      <td>1</td>\n",
       "      <td>1</td>\n",
       "      <td>0</td>\n",
       "      <td>27496.0</td>\n",
       "      <td>152.0</td>\n",
       "      <td>39</td>\n",
       "      <td>0</td>\n",
       "    </tr>\n",
       "  </tbody>\n",
       "</table>\n",
       "</div>"
      ],
      "text/plain": [
       "   Gender  Age  Driving_License  Region_Code  Previously_Insured  Vehicle_Age  \\\n",
       "0       1   44                1         28.0                   0            3   \n",
       "1       1   76                1          3.0                   0            2   \n",
       "2       1   47                1         28.0                   0            3   \n",
       "3       1   21                1         11.0                   1            1   \n",
       "4       0   29                1         41.0                   1            1   \n",
       "\n",
       "   Vehicle_Damage  Annual_Premium  Policy_Sales_Channel  Vintage  Response  \n",
       "0               1         40454.0                  26.0      217         1  \n",
       "1               0         33536.0                  26.0      183         0  \n",
       "2               1         38294.0                  26.0       27         1  \n",
       "3               0         28619.0                 152.0      203         0  \n",
       "4               0         27496.0                 152.0       39         0  "
      ]
     },
     "execution_count": 78,
     "metadata": {},
     "output_type": "execute_result"
    }
   ],
   "source": [
    "data = data.drop(columns=['id'])\n",
    "data.head()"
   ]
  },
  {
   "cell_type": "code",
   "execution_count": 79,
   "metadata": {},
   "outputs": [
    {
     "data": {
      "image/png": "[encoded data removed]",
      "text/plain": [
       "<Figure size 1224x720 with 6 Axes>"
      ]
     },
     "metadata": {
      "needs_background": "light"
     },
     "output_type": "display_data"
    }
   ],
   "source": [
    "def pick_equidistant_elems(m, n):\n",
    "    \"\"\"De un conjunto de n elementos, escoger m que tengan una misma distancia unos de otros\"\"\"\n",
    "    return [i*n//m + n//(2*m) for i in range(m)]\n",
    "\n",
    "  \n",
    "target_features = ['Previously_Insured', 'Vehicle_Age', 'Vehicle_Damage']\n",
    "matplotlib.rcParams.update({'font.size': 12})\n",
    "ids_to_plot = np.asarray(ordered_ids)[pick_equidistant_elems(6, len(ordered_ids))]\n",
    "fig2 = plt.figure(figsize=(17, 10))\n",
    "cols = len(ids_to_plot)\n",
    "for i, (sess_id, _df) in enumerate([g for g in grpd if g[0] in ids_to_plot]):\n",
    "    _df = _df.reset_index(drop=True)\n",
    "    plt.subplot(4, cols, i+1)\n",
    "    plt.xticks([])\n",
    "    for target in target_features:\n",
    "        plt.plot(_df[target], label=target)\n",
    "    if i == 0:\n",
    "        plt.legend(loc='upper right', bbox_to_anchor=(-0.2, 1.0))\n",
    "    \n",
    "plt.tight_layout()"
   ]
  },
  {
   "cell_type": "markdown",
   "metadata": {},
   "source": [
    "Después de realizar el análisis anterior de los datos, se puede unificar variables que son redundantes en el modelo."
   ]
  },
  {
   "cell_type": "code",
   "execution_count": 80,
   "metadata": {},
   "outputs": [],
   "source": [
    "edad = data[['Age','Vehicle_Age']]\n",
    "accidentes = data[['Previously_Insured','Vehicle_Damage']]\n",
    "todoDemas = data[['Response', 'Gender','Driving_License','Region_Code','Annual_Premium','Policy_Sales_Channel']]"
   ]
  },
  {
   "cell_type": "code",
   "execution_count": 82,
   "metadata": {},
   "outputs": [
    {
     "data": {
      "text/html": [
       "<div>\n",
       "<style scoped>\n",
       "    .dataframe tbody tr th:only-of-type {\n",
       "        vertical-align: middle;\n",
       "    }\n",
       "\n",
       "    .dataframe tbody tr th {\n",
       "        vertical-align: top;\n",
       "    }\n",
       "\n",
       "    .dataframe thead th {\n",
       "        text-align: right;\n",
       "    }\n",
       "</style>\n",
       "<table border=\"1\" class=\"dataframe\">\n",
       "  <thead>\n",
       "    <tr style=\"text-align: right;\">\n",
       "      <th></th>\n",
       "      <th>edad</th>\n",
       "      <th>accidentes</th>\n",
       "      <th>Response</th>\n",
       "      <th>Gender</th>\n",
       "      <th>Driving_License</th>\n",
       "      <th>Region_Code</th>\n",
       "      <th>Annual_Premium</th>\n",
       "      <th>Policy_Sales_Channel</th>\n",
       "    </tr>\n",
       "  </thead>\n",
       "  <tbody>\n",
       "    <tr>\n",
       "      <td>count</td>\n",
       "      <td>3.811090e+05</td>\n",
       "      <td>3.811090e+05</td>\n",
       "      <td>381109.000000</td>\n",
       "      <td>381109.000000</td>\n",
       "      <td>381109.000000</td>\n",
       "      <td>381109.000000</td>\n",
       "      <td>381109.000000</td>\n",
       "      <td>381109.000000</td>\n",
       "    </tr>\n",
       "    <tr>\n",
       "      <td>mean</td>\n",
       "      <td>-2.665234e-15</td>\n",
       "      <td>3.367786e-15</td>\n",
       "      <td>0.122563</td>\n",
       "      <td>0.540761</td>\n",
       "      <td>0.997869</td>\n",
       "      <td>26.388807</td>\n",
       "      <td>30564.389581</td>\n",
       "      <td>112.034295</td>\n",
       "    </tr>\n",
       "    <tr>\n",
       "      <td>std</td>\n",
       "      <td>1.551770e+01</td>\n",
       "      <td>6.741090e-01</td>\n",
       "      <td>0.327936</td>\n",
       "      <td>0.498336</td>\n",
       "      <td>0.046110</td>\n",
       "      <td>13.229888</td>\n",
       "      <td>17213.155057</td>\n",
       "      <td>54.203995</td>\n",
       "    </tr>\n",
       "    <tr>\n",
       "      <td>min</td>\n",
       "      <td>-1.883227e+01</td>\n",
       "      <td>-6.741619e-01</td>\n",
       "      <td>0.000000</td>\n",
       "      <td>0.000000</td>\n",
       "      <td>0.000000</td>\n",
       "      <td>0.000000</td>\n",
       "      <td>2630.000000</td>\n",
       "      <td>1.000000</td>\n",
       "    </tr>\n",
       "    <tr>\n",
       "      <td>25%</td>\n",
       "      <td>-1.383424e+01</td>\n",
       "      <td>-6.741619e-01</td>\n",
       "      <td>0.000000</td>\n",
       "      <td>0.000000</td>\n",
       "      <td>1.000000</td>\n",
       "      <td>15.000000</td>\n",
       "      <td>24405.000000</td>\n",
       "      <td>29.000000</td>\n",
       "    </tr>\n",
       "    <tr>\n",
       "      <td>50%</td>\n",
       "      <td>-2.810538e+00</td>\n",
       "      <td>3.146010e-02</td>\n",
       "      <td>0.000000</td>\n",
       "      <td>1.000000</td>\n",
       "      <td>1.000000</td>\n",
       "      <td>28.000000</td>\n",
       "      <td>31669.000000</td>\n",
       "      <td>133.000000</td>\n",
       "    </tr>\n",
       "    <tr>\n",
       "      <td>75%</td>\n",
       "      <td>1.021238e+01</td>\n",
       "      <td>7.400486e-01</td>\n",
       "      <td>0.000000</td>\n",
       "      <td>1.000000</td>\n",
       "      <td>1.000000</td>\n",
       "      <td>35.000000</td>\n",
       "      <td>39400.000000</td>\n",
       "      <td>152.000000</td>\n",
       "    </tr>\n",
       "    <tr>\n",
       "      <td>max</td>\n",
       "      <td>4.617023e+01</td>\n",
       "      <td>7.400486e-01</td>\n",
       "      <td>1.000000</td>\n",
       "      <td>1.000000</td>\n",
       "      <td>1.000000</td>\n",
       "      <td>52.000000</td>\n",
       "      <td>540165.000000</td>\n",
       "      <td>163.000000</td>\n",
       "    </tr>\n",
       "  </tbody>\n",
       "</table>\n",
       "</div>"
      ],
      "text/plain": [
       "               edad    accidentes       Response         Gender  \\\n",
       "count  3.811090e+05  3.811090e+05  381109.000000  381109.000000   \n",
       "mean  -2.665234e-15  3.367786e-15       0.122563       0.540761   \n",
       "std    1.551770e+01  6.741090e-01       0.327936       0.498336   \n",
       "min   -1.883227e+01 -6.741619e-01       0.000000       0.000000   \n",
       "25%   -1.383424e+01 -6.741619e-01       0.000000       0.000000   \n",
       "50%   -2.810538e+00  3.146010e-02       0.000000       1.000000   \n",
       "75%    1.021238e+01  7.400486e-01       0.000000       1.000000   \n",
       "max    4.617023e+01  7.400486e-01       1.000000       1.000000   \n",
       "\n",
       "       Driving_License    Region_Code  Annual_Premium  Policy_Sales_Channel  \n",
       "count    381109.000000  381109.000000   381109.000000         381109.000000  \n",
       "mean          0.997869      26.388807    30564.389581            112.034295  \n",
       "std           0.046110      13.229888    17213.155057             54.203995  \n",
       "min           0.000000       0.000000     2630.000000              1.000000  \n",
       "25%           1.000000      15.000000    24405.000000             29.000000  \n",
       "50%           1.000000      28.000000    31669.000000            133.000000  \n",
       "75%           1.000000      35.000000    39400.000000            152.000000  \n",
       "max           1.000000      52.000000   540165.000000            163.000000  "
      ]
     },
     "execution_count": 82,
     "metadata": {},
     "output_type": "execute_result"
    }
   ],
   "source": [
    "from sklearn.decomposition import PCA\n",
    "pca = PCA(n_components=1)\n",
    "pca_edad = pca.fit_transform(edad)\n",
    "edad_df = pd.DataFrame(data = pca_edad, columns = ['edad'])\n",
    "\n",
    "pca = PCA(n_components=1)\n",
    "pca_accidentes = pca.fit_transform(accidentes)\n",
    "accidentes_df = pd.DataFrame(data = pca_accidentes, columns = ['accidentes'])\n",
    "\n",
    "temporal = pd.concat([edad_df, accidentes_df], axis = 1)\n",
    "temporal.head()\n",
    "\n",
    "final=pd.concat([temporal, todoDemas], axis=1)\n",
    "final.describe()"
   ]
  },
  {
   "cell_type": "code",
   "execution_count": 83,
   "metadata": {},
   "outputs": [
    {
     "data": {
      "image/png": "[encoded data removed]",
      "text/plain": [
       "<Figure size 864x864 with 2 Axes>"
      ]
     },
     "metadata": {
      "needs_background": "light"
     },
     "output_type": "display_data"
    }
   ],
   "source": [
    "f,ax=plt.subplots(figsize=(12,12))\n",
    "corr=final.corr()\n",
    "\n",
    "sns.heatmap(corr, annot=True, linewidths=.5, fmt='.2f', mask= np.zeros_like(corr,dtype=np.bool), \n",
    "            square=True, ax=ax)\n",
    "\n",
    "plt.show()"
   ]
  },
  {
   "cell_type": "code",
   "execution_count": 84,
   "metadata": {},
   "outputs": [
    {
     "data": {
      "text/html": [
       "<div>\n",
       "<style scoped>\n",
       "    .dataframe tbody tr th:only-of-type {\n",
       "        vertical-align: middle;\n",
       "    }\n",
       "\n",
       "    .dataframe tbody tr th {\n",
       "        vertical-align: top;\n",
       "    }\n",
       "\n",
       "    .dataframe thead th {\n",
       "        text-align: right;\n",
       "    }\n",
       "</style>\n",
       "<table border=\"1\" class=\"dataframe\">\n",
       "  <thead>\n",
       "    <tr style=\"text-align: right;\">\n",
       "      <th></th>\n",
       "      <th>edad</th>\n",
       "      <th>accidentes</th>\n",
       "      <th>Response</th>\n",
       "      <th>Gender</th>\n",
       "      <th>Policy_Sales_Channel</th>\n",
       "    </tr>\n",
       "  </thead>\n",
       "  <tbody>\n",
       "    <tr>\n",
       "      <td>0</td>\n",
       "      <td>5.214340</td>\n",
       "      <td>-0.674162</td>\n",
       "      <td>1</td>\n",
       "      <td>1</td>\n",
       "      <td>26.0</td>\n",
       "    </tr>\n",
       "    <tr>\n",
       "      <td>1</td>\n",
       "      <td>37.173759</td>\n",
       "      <td>0.034427</td>\n",
       "      <td>0</td>\n",
       "      <td>1</td>\n",
       "      <td>26.0</td>\n",
       "    </tr>\n",
       "    <tr>\n",
       "      <td>2</td>\n",
       "      <td>8.213162</td>\n",
       "      <td>-0.674162</td>\n",
       "      <td>1</td>\n",
       "      <td>1</td>\n",
       "      <td>26.0</td>\n",
       "    </tr>\n",
       "    <tr>\n",
       "      <td>3</td>\n",
       "      <td>-17.832667</td>\n",
       "      <td>0.740049</td>\n",
       "      <td>0</td>\n",
       "      <td>1</td>\n",
       "      <td>152.0</td>\n",
       "    </tr>\n",
       "    <tr>\n",
       "      <td>4</td>\n",
       "      <td>-9.835808</td>\n",
       "      <td>0.740049</td>\n",
       "      <td>0</td>\n",
       "      <td>0</td>\n",
       "      <td>152.0</td>\n",
       "    </tr>\n",
       "  </tbody>\n",
       "</table>\n",
       "</div>"
      ],
      "text/plain": [
       "        edad  accidentes  Response  Gender  Policy_Sales_Channel\n",
       "0   5.214340   -0.674162         1       1                  26.0\n",
       "1  37.173759    0.034427         0       1                  26.0\n",
       "2   8.213162   -0.674162         1       1                  26.0\n",
       "3 -17.832667    0.740049         0       1                 152.0\n",
       "4  -9.835808    0.740049         0       0                 152.0"
      ]
     },
     "execution_count": 84,
     "metadata": {},
     "output_type": "execute_result"
    }
   ],
   "source": [
    "df_x = final.drop([\"Driving_License\", \"Region_Code\", \"Annual_Premium\"],axis=1)\n",
    "df_y = pd.DataFrame(final['Response']) #temp 1 es la variable dependiente\n",
    "df_x.head()"
   ]
  },
  {
   "cell_type": "code",
   "execution_count": 85,
   "metadata": {},
   "outputs": [
    {
     "data": {
      "text/html": [
       "<div>\n",
       "<style scoped>\n",
       "    .dataframe tbody tr th:only-of-type {\n",
       "        vertical-align: middle;\n",
       "    }\n",
       "\n",
       "    .dataframe tbody tr th {\n",
       "        vertical-align: top;\n",
       "    }\n",
       "\n",
       "    .dataframe thead th {\n",
       "        text-align: right;\n",
       "    }\n",
       "</style>\n",
       "<table border=\"1\" class=\"dataframe\">\n",
       "  <thead>\n",
       "    <tr style=\"text-align: right;\">\n",
       "      <th></th>\n",
       "      <th>Response</th>\n",
       "    </tr>\n",
       "  </thead>\n",
       "  <tbody>\n",
       "    <tr>\n",
       "      <td>0</td>\n",
       "      <td>1</td>\n",
       "    </tr>\n",
       "    <tr>\n",
       "      <td>1</td>\n",
       "      <td>0</td>\n",
       "    </tr>\n",
       "    <tr>\n",
       "      <td>2</td>\n",
       "      <td>1</td>\n",
       "    </tr>\n",
       "    <tr>\n",
       "      <td>3</td>\n",
       "      <td>0</td>\n",
       "    </tr>\n",
       "    <tr>\n",
       "      <td>4</td>\n",
       "      <td>0</td>\n",
       "    </tr>\n",
       "  </tbody>\n",
       "</table>\n",
       "</div>"
      ],
      "text/plain": [
       "   Response\n",
       "0         1\n",
       "1         0\n",
       "2         1\n",
       "3         0\n",
       "4         0"
      ]
     },
     "execution_count": 85,
     "metadata": {},
     "output_type": "execute_result"
    }
   ],
   "source": [
    "df_y.head()"
   ]
  },
  {
   "cell_type": "code",
   "execution_count": 86,
   "metadata": {},
   "outputs": [],
   "source": [
    "from sklearn.model_selection import train_test_split\n",
    "from sklearn.metrics import r2_score"
   ]
  },
  {
   "cell_type": "code",
   "execution_count": 87,
   "metadata": {},
   "outputs": [
    {
     "name": "stdout",
     "output_type": "stream",
     "text": [
      "torch.Size([266776, 5])\n"
     ]
    }
   ],
   "source": [
    "torch.cuda.empty_cache()\n",
    "torch.cuda.reset_max_memory_cached\n",
    "\n",
    "xTrain, xTest, yTrain, yTest = train_test_split(df_x.to_numpy(), df_y.to_numpy(), test_size = 0.3, random_state = 0)\n",
    "\n",
    "x_train = torch.FloatTensor(xTrain)\n",
    "y_train = torch.FloatTensor(yTrain)\n",
    "x_test = torch.FloatTensor(xTest)\n",
    "y_test = torch.FloatTensor(yTest)\n",
    "print(x_train.shape)"
   ]
  },
  {
   "cell_type": "code",
   "execution_count": 88,
   "metadata": {},
   "outputs": [],
   "source": [
    "from torch.optim.lr_scheduler import CyclicLR"
   ]
  },
  {
   "cell_type": "code",
   "execution_count": 89,
   "metadata": {},
   "outputs": [],
   "source": [
    "class Feedforward(torch.nn.Module):\n",
    "  def __init__(self, input_size, hidden_size):\n",
    "    super(Feedforward, self).__init__()\n",
    "    self.input_size = input_size\n",
    "    self.hidden_size  = hidden_size\n",
    "    self.fc1 = torch.nn.Linear(self.input_size, self.hidden_size)\n",
    "    self.relu = torch.nn.ReLU()\n",
    "    self.fc2 = torch.nn.Linear(self.hidden_size, self.hidden_size - 1)\n",
    "    self.fc3 = torch.nn.Linear(self.hidden_size - 1, self.hidden_size - 1)\n",
    "    self.fc4 = torch.nn.Linear(self.hidden_size - 1, self.hidden_size - 2)\n",
    "    self.fc5 = torch.nn.Linear(self.hidden_size - 2, self.hidden_size - 3 )\n",
    "    self.fc6 = torch.nn.Linear(self.hidden_size - 3, 1)\n",
    "    self.sigmoid = torch.nn.Sigmoid()\n",
    "  def forward(self, x):\n",
    "    hidden = self.fc1(x)\n",
    "    relu = self.relu(hidden)\n",
    "    hidden2 = self.fc2(relu)\n",
    "    relu2 = self.relu(hidden2)\n",
    "    hidden3 = self.fc3(relu2)\n",
    "    relu3 = self.relu(hidden3)\n",
    "    hidden4 =  self.fc4(relu3)\n",
    "    relu4 = self.relu(hidden4)\n",
    "    hidden5 = self.fc5(relu4)\n",
    "    relu5 = self.relu(hidden5)\n",
    "    output = self.fc6(relu5)\n",
    "    output = self.sigmoid(output)\n",
    "    return output\n",
    "\n",
    "def init_weights(m):\n",
    "  if type(m) == nn.Linear:\n",
    "    torch.nn.init.xavier_uniform_(m.weight)#torch.nn.init.xavier_uniform(m.weight)\n",
    "    m.bias.data.fill_(0.01)"
   ]
  },
  {
   "cell_type": "markdown",
   "metadata": {},
   "source": [
    "#### Aplicando Stochastic Gradient Descent"
   ]
  },
  {
   "cell_type": "code",
   "execution_count": 90,
   "metadata": {},
   "outputs": [],
   "source": [
    "def sgd(inputs, hidden_nodes, lr, momentum, epoch, x_train, y_train, x_test, y_test, batch_size):\n",
    "  model = Feedforward(inputs, hidden_nodes)\n",
    "  model.apply(init_weights)\n",
    "  criterion = torch.nn.MSELoss()\n",
    "  optimizer = torch.optim.SGD(model.parameters(), lr = lr, momentum = momentum)\n",
    "  losses = []\n",
    "  model.train()\n",
    "\n",
    "  for epoch in range(epoch):\n",
    "    \n",
    "    for batch in range(math.floor(x_train.shape[0] / batch_size)):\n",
    "      optimizer.zero_grad()\n",
    "      x_batch = x_train[batch*batch_size:batch*batch_size + batch_size, :]\n",
    "      y_batch = y_train[batch*batch_size:batch*batch_size + batch_size]\n",
    "      x_batch = x_batch.to(device)\n",
    "      y_batch = y_batch.to(device)\n",
    "      \n",
    "      \n",
    "      # Pase adelantado\n",
    "      y_pred = model(x_batch)\n",
    "      # Pérdida computacional\n",
    "      loss = criterion(y_pred.squeeze(), y_batch)\n",
    "      losses.append(loss)\n",
    "      if epoch > 0 and epoch % 1000 == 0:\n",
    "          print('Epoch {}: perdida entrenamiento: {}'.format(epoch, loss.item()))\n",
    "      # Paso hacia atrás\n",
    "      loss.backward()\n",
    "      optimizer.step()\n",
    "\n",
    "  print('**************************')\n",
    "  model.eval()\n",
    "  y_pred = model(x_test[0:batch_size, :].to(device))\n",
    "  after_train = criterion(y_pred.squeeze(), y_test[0:batch_size].to(device).squeeze()) \n",
    "  print('Pérdida despues de Entrenar: ' , after_train.item())\n",
    "\n",
    "  r_square = r2_score(y_test[0:batch_size, :], y_pred.cpu().detach().numpy().squeeze())\n",
    "  print('R cuadrado: '+ str(r_square))\n",
    "\n",
    "  return losses"
   ]
  },
  {
   "cell_type": "code",
   "execution_count": 92,
   "metadata": {},
   "outputs": [
    {
     "name": "stderr",
     "output_type": "stream",
     "text": [
      "C:\\Users\\diego\\AppData\\Local\\Continuum\\anaconda3\\lib\\site-packages\\torch\\nn\\modules\\loss.py:445: UserWarning: Using a target size (torch.Size([1024, 1])) that is different to the input size (torch.Size([1024])). This will likely lead to incorrect results due to broadcasting. Please ensure they have the same size.\n",
      "  return F.mse_loss(input, target, reduction=self.reduction)\n"
     ]
    },
    {
     "name": "stdout",
     "output_type": "stream",
     "text": [
      "**************************\n",
      "Pérdida despues de Entrenar:  0.10569532215595245\n",
      "R cuadrado: -5.9345541007838065e-05\n",
      "tensor(0.1086, grad_fn=<MseLossBackward>)\n"
     ]
    }
   ],
   "source": [
    "losses = sgd(5, 6, 0.5, 0.9, 100, x_train, y_train, x_test, y_test, 1024)\n",
    "print(losses[-1])"
   ]
  },
  {
   "cell_type": "markdown",
   "metadata": {},
   "source": [
    "#### Adam"
   ]
  },
  {
   "cell_type": "code",
   "execution_count": 93,
   "metadata": {},
   "outputs": [],
   "source": [
    "def adam(inputs, hidden_nodes, epoch, x_train, y_train, x_test, y_test, batch_size):\n",
    "  model = Feedforward(inputs, hidden_nodes)\n",
    "  model.to(device)\n",
    "  model.apply(init_weights)\n",
    "  criterion = torch.nn.MSELoss()\n",
    "  optimizer = torch.optim.Adam(model.parameters())\n",
    "\n",
    "  model.train()\n",
    "  \n",
    "  losses = []\n",
    "  for epoch in range(epoch):\n",
    "     for batch in range(math.floor(x_train.shape[0] / batch_size)):\n",
    "      optimizer.zero_grad()\n",
    "      x_batch = x_train[batch*batch_size:batch*batch_size + batch_size, :]\n",
    "      y_batch = y_train[batch*batch_size:batch*batch_size + batch_size, :]\n",
    "      x_batch = x_batch.to(device)\n",
    "      y_batch = y_batch.to(device)\n",
    "      \n",
    "      # Paso siguiente\n",
    "      y_pred = model(x_batch)\n",
    "      # Pérdida en el cálculo\n",
    "      loss = criterion(y_pred.squeeze(), y_batch)\n",
    "      losses.append(loss)\n",
    "#       if epoch % 100 == 0:\n",
    "#           print('Epoch {}: train loss: {}'.format(epoch, loss.item()))\n",
    "      # Paso hacia atrás\n",
    "      loss.backward()\n",
    "      optimizer.step()\n",
    "\n",
    "  print('**************************')\n",
    "  model.eval()\n",
    "  y_pred = model(x_test[0:batch_size, :].to(device))\n",
    "  after_train = criterion(y_pred.squeeze(), y_test[0:batch_size].to(device).squeeze()) \n",
    "  print('Pérdida despues de Entrenar: ' , after_train.item())\n",
    "\n",
    "  r_square = r2_score(y_test[0:batch_size, :], y_pred.cpu().detach().numpy().squeeze())\n",
    "  print('R cuadrado: '+ str(r_square))\n",
    "\n",
    "  return losses"
   ]
  },
  {
   "cell_type": "code",
   "execution_count": 94,
   "metadata": {},
   "outputs": [
    {
     "name": "stderr",
     "output_type": "stream",
     "text": [
      "C:\\Users\\diego\\AppData\\Local\\Continuum\\anaconda3\\lib\\site-packages\\torch\\nn\\modules\\loss.py:445: UserWarning: Using a target size (torch.Size([1024, 1])) that is different to the input size (torch.Size([1024])). This will likely lead to incorrect results due to broadcasting. Please ensure they have the same size.\n",
      "  return F.mse_loss(input, target, reduction=self.reduction)\n"
     ]
    },
    {
     "name": "stdout",
     "output_type": "stream",
     "text": [
      "**************************\n",
      "Pérdida despues de Entrenar:  0.1056891605257988\n",
      "R cuadrado: -1.244682539924824e-06\n",
      "tensor(0.1086, grad_fn=<MseLossBackward>)\n"
     ]
    }
   ],
   "source": [
    "losses = adam(5, 30, 100, x_train, y_train, x_test, y_test, 1024)\n",
    "print(losses[-1])"
   ]
  },
  {
   "cell_type": "markdown",
   "metadata": {},
   "source": [
    "#### Normalizando los datos"
   ]
  },
  {
   "cell_type": "code",
   "execution_count": 95,
   "metadata": {},
   "outputs": [],
   "source": [
    "from sklearn import preprocessing\n",
    "\n",
    "min_max_scaler = preprocessing.MinMaxScaler()\n",
    "x_train_norm = min_max_scaler.fit_transform(x_train.cpu().numpy())\n",
    "\n",
    "x_test_norm = min_max_scaler.fit_transform(x_test.cpu().numpy())"
   ]
  },
  {
   "cell_type": "code",
   "execution_count": 97,
   "metadata": {},
   "outputs": [
    {
     "name": "stdout",
     "output_type": "stream",
     "text": [
      "torch.Size([266776, 5])\n"
     ]
    }
   ],
   "source": [
    "x_train_norm_p = torch.FloatTensor(x_train_norm)\n",
    "x_test_norm_p = torch.FloatTensor(x_test_norm)\n",
    "print(x_train_norm_p.shape)"
   ]
  },
  {
   "cell_type": "code",
   "execution_count": 99,
   "metadata": {},
   "outputs": [
    {
     "name": "stderr",
     "output_type": "stream",
     "text": [
      "C:\\Users\\diego\\AppData\\Local\\Continuum\\anaconda3\\lib\\site-packages\\torch\\nn\\modules\\loss.py:445: UserWarning: Using a target size (torch.Size([1024, 1])) that is different to the input size (torch.Size([1024])). This will likely lead to incorrect results due to broadcasting. Please ensure they have the same size.\n",
      "  return F.mse_loss(input, target, reduction=self.reduction)\n"
     ]
    },
    {
     "name": "stdout",
     "output_type": "stream",
     "text": [
      "Epoch 1000: perdida entrenamiento: 0.09611000120639801\n",
      "Epoch 1000: perdida entrenamiento: 0.10274370014667511\n",
      "Epoch 1000: perdida entrenamiento: 0.10790745913982391\n",
      "Epoch 1000: perdida entrenamiento: 0.10052545368671417\n",
      "Epoch 1000: perdida entrenamiento: 0.10938413441181183\n",
      "Epoch 1000: perdida entrenamiento: 0.10421497374773026\n",
      "Epoch 1000: perdida entrenamiento: 0.09977822005748749\n",
      "Epoch 1000: perdida entrenamiento: 0.10716943442821503\n",
      "Epoch 1000: perdida entrenamiento: 0.10495192557573318\n",
      "Epoch 1000: perdida entrenamiento: 0.11752905696630478\n",
      "Epoch 1000: perdida entrenamiento: 0.10791057348251343\n",
      "Epoch 1000: perdida entrenamiento: 0.11901543289422989\n",
      "Epoch 1000: perdida entrenamiento: 0.11013077199459076\n",
      "Epoch 1000: perdida entrenamiento: 0.1019895002245903\n",
      "Epoch 1000: perdida entrenamiento: 0.10938921570777893\n",
      "Epoch 1000: perdida entrenamiento: 0.11234916001558304\n",
      "Epoch 1000: perdida entrenamiento: 0.1049504280090332\n",
      "Epoch 1000: perdida entrenamiento: 0.11604256927967072\n",
      "Epoch 1000: perdida entrenamiento: 0.10569152981042862\n",
      "Epoch 1000: perdida entrenamiento: 0.11308050155639648\n",
      "Epoch 1000: perdida entrenamiento: 0.11160117387771606\n",
      "Epoch 1000: perdida entrenamiento: 0.11159980297088623\n",
      "Epoch 1000: perdida entrenamiento: 0.11971386522054672\n",
      "Epoch 1000: perdida entrenamiento: 0.10643184930086136\n",
      "Epoch 1000: perdida entrenamiento: 0.10643260926008224\n",
      "Epoch 1000: perdida entrenamiento: 0.11232516169548035\n",
      "Epoch 1000: perdida entrenamiento: 0.10864215344190598\n",
      "Epoch 1000: perdida entrenamiento: 0.11379316449165344\n",
      "Epoch 1000: perdida entrenamiento: 0.08731523156166077\n",
      "Epoch 1000: perdida entrenamiento: 0.1079067587852478\n",
      "Epoch 1000: perdida entrenamiento: 0.10423027724027634\n",
      "Epoch 1000: perdida entrenamiento: 0.10643577575683594\n",
      "Epoch 1000: perdida entrenamiento: 0.1101120188832283\n",
      "Epoch 1000: perdida entrenamiento: 0.10349525511264801\n",
      "Epoch 1000: perdida entrenamiento: 0.11452490091323853\n",
      "Epoch 1000: perdida entrenamiento: 0.11231879889965057\n",
      "Epoch 1000: perdida entrenamiento: 0.1057005301117897\n",
      "Epoch 1000: perdida entrenamiento: 0.10570111870765686\n",
      "Epoch 1000: perdida entrenamiento: 0.09834849834442139\n",
      "Epoch 1000: perdida entrenamiento: 0.11967220157384872\n",
      "Epoch 1000: perdida entrenamiento: 0.09687712043523788\n",
      "Epoch 1000: perdida entrenamiento: 0.11673282831907272\n",
      "Epoch 1000: perdida entrenamiento: 0.0983458161354065\n",
      "Epoch 1000: perdida entrenamiento: 0.1034926176071167\n",
      "Epoch 1000: perdida entrenamiento: 0.11305709183216095\n",
      "Epoch 1000: perdida entrenamiento: 0.10349230468273163\n",
      "Epoch 1000: perdida entrenamiento: 0.11232241243124008\n",
      "Epoch 1000: perdida entrenamiento: 0.10201665759086609\n",
      "Epoch 1000: perdida entrenamiento: 0.10496138036251068\n",
      "Epoch 1000: perdida entrenamiento: 0.10275079309940338\n",
      "Epoch 1000: perdida entrenamiento: 0.10864348709583282\n",
      "Epoch 1000: perdida entrenamiento: 0.10348454117774963\n",
      "Epoch 1000: perdida entrenamiento: 0.10569523274898529\n",
      "Epoch 1000: perdida entrenamiento: 0.10053214430809021\n",
      "Epoch 1000: perdida entrenamiento: 0.10274282842874527\n",
      "Epoch 1000: perdida entrenamiento: 0.10421640425920486\n",
      "Epoch 1000: perdida entrenamiento: 0.1219383031129837\n",
      "Epoch 1000: perdida entrenamiento: 0.09830530732870102\n",
      "Epoch 1000: perdida entrenamiento: 0.09165192395448685\n",
      "Epoch 1000: perdida entrenamiento: 0.11086687445640564\n",
      "Epoch 1000: perdida entrenamiento: 0.09607458114624023\n",
      "Epoch 1000: perdida entrenamiento: 0.11531038582324982\n",
      "Epoch 1000: perdida entrenamiento: 0.09014110267162323\n",
      "Epoch 1000: perdida entrenamiento: 0.11309801042079926\n",
      "Epoch 1000: perdida entrenamiento: 0.1316308230161667\n",
      "Epoch 1000: perdida entrenamiento: 0.11977040767669678\n",
      "Epoch 1000: perdida entrenamiento: 0.12198732048273087\n",
      "Epoch 1000: perdida entrenamiento: 0.09828627109527588\n",
      "Epoch 1000: perdida entrenamiento: 0.10568932443857193\n",
      "Epoch 1000: perdida entrenamiento: 0.11382868885993958\n",
      "Epoch 1000: perdida entrenamiento: 0.10864798724651337\n",
      "Epoch 1000: perdida entrenamiento: 0.0960821658372879\n",
      "Epoch 1000: perdida entrenamiento: 0.10495239496231079\n",
      "Epoch 1000: perdida entrenamiento: 0.11012492328882217\n",
      "Epoch 1000: perdida entrenamiento: 0.10495270788669586\n",
      "Epoch 1000: perdida entrenamiento: 0.10495249927043915\n",
      "Epoch 1000: perdida entrenamiento: 0.1145530417561531\n",
      "Epoch 1000: perdida entrenamiento: 0.10347800701856613\n",
      "Epoch 1000: perdida entrenamiento: 0.10495535284280777\n",
      "Epoch 1000: perdida entrenamiento: 0.10938442498445511\n",
      "Epoch 1000: perdida entrenamiento: 0.0887138843536377\n",
      "Epoch 1000: perdida entrenamiento: 0.1064317375421524\n",
      "Epoch 1000: perdida entrenamiento: 0.10864532738924026\n",
      "Epoch 1000: perdida entrenamiento: 0.12489575892686844\n",
      "Epoch 1000: perdida entrenamiento: 0.10495293140411377\n",
      "Epoch 1000: perdida entrenamiento: 0.09978438913822174\n",
      "Epoch 1000: perdida entrenamiento: 0.09978410601615906\n",
      "Epoch 1000: perdida entrenamiento: 0.10421451926231384\n",
      "Epoch 1000: perdida entrenamiento: 0.09756618738174438\n",
      "Epoch 1000: perdida entrenamiento: 0.11825422942638397\n",
      "Epoch 1000: perdida entrenamiento: 0.11086496710777283\n",
      "Epoch 1000: perdida entrenamiento: 0.10273457318544388\n",
      "Epoch 1000: perdida entrenamiento: 0.11160565167665482\n",
      "Epoch 1000: perdida entrenamiento: 0.10643097758293152\n",
      "Epoch 1000: perdida entrenamiento: 0.11160597205162048\n",
      "Epoch 1000: perdida entrenamiento: 0.10421305149793625\n",
      "Epoch 1000: perdida entrenamiento: 0.10790807008743286\n",
      "Epoch 1000: perdida entrenamiento: 0.11529810726642609\n",
      "Epoch 1000: perdida entrenamiento: 0.10864689201116562\n",
      "Epoch 1000: perdida entrenamiento: 0.10125996172428131\n",
      "Epoch 1000: perdida entrenamiento: 0.10347569733858109\n",
      "Epoch 1000: perdida entrenamiento: 0.11603324860334396\n",
      "Epoch 1000: perdida entrenamiento: 0.1197231188416481\n",
      "Epoch 1000: perdida entrenamiento: 0.09609566628932953\n",
      "Epoch 1000: perdida entrenamiento: 0.11159730702638626\n",
      "Epoch 1000: perdida entrenamiento: 0.10643180459737778\n",
      "Epoch 1000: perdida entrenamiento: 0.10200515389442444\n",
      "Epoch 1000: perdida entrenamiento: 0.114546038210392\n",
      "Epoch 1000: perdida entrenamiento: 0.10348117351531982\n",
      "Epoch 1000: perdida entrenamiento: 0.0997944176197052\n",
      "Epoch 1000: perdida entrenamiento: 0.11823095381259918\n",
      "Epoch 1000: perdida entrenamiento: 0.10790702700614929\n",
      "Epoch 1000: perdida entrenamiento: 0.09979772567749023\n",
      "Epoch 1000: perdida entrenamiento: 0.10200917720794678\n",
      "Epoch 1000: perdida entrenamiento: 0.11233135312795639\n",
      "Epoch 1000: perdida entrenamiento: 0.10790710896253586\n",
      "Epoch 1000: perdida entrenamiento: 0.09389667212963104\n",
      "Epoch 1000: perdida entrenamiento: 0.10053084045648575\n",
      "Epoch 1000: perdida entrenamiento: 0.104956716299057\n",
      "Epoch 1000: perdida entrenamiento: 0.11381209641695023\n",
      "Epoch 1000: perdida entrenamiento: 0.11086201667785645\n",
      "Epoch 1000: perdida entrenamiento: 0.09757044166326523\n",
      "Epoch 1000: perdida entrenamiento: 0.12489433586597443\n",
      "Epoch 1000: perdida entrenamiento: 0.10199873149394989\n",
      "Epoch 1000: perdida entrenamiento: 0.11012205481529236\n",
      "Epoch 1000: perdida entrenamiento: 0.12193924933671951\n",
      "Epoch 1000: perdida entrenamiento: 0.10347880423069\n",
      "Epoch 1000: perdida entrenamiento: 0.10643056035041809\n",
      "Epoch 1000: perdida entrenamiento: 0.1145482137799263\n",
      "Epoch 1000: perdida entrenamiento: 0.10495679080486298\n",
      "Epoch 1000: perdida entrenamiento: 0.1064314991235733\n",
      "Epoch 1000: perdida entrenamiento: 0.1182309240102768\n",
      "Epoch 1000: perdida entrenamiento: 0.1056944876909256\n",
      "Epoch 1000: perdida entrenamiento: 0.1071707159280777\n",
      "Epoch 1000: perdida entrenamiento: 0.11085280030965805\n",
      "Epoch 1000: perdida entrenamiento: 0.10422484576702118\n",
      "Epoch 1000: perdida entrenamiento: 0.10201609134674072\n",
      "Epoch 1000: perdida entrenamiento: 0.09391742944717407\n",
      "Epoch 1000: perdida entrenamiento: 0.10864338278770447\n",
      "Epoch 1000: perdida entrenamiento: 0.0975939929485321\n",
      "Epoch 1000: perdida entrenamiento: 0.1130649521946907\n",
      "Epoch 1000: perdida entrenamiento: 0.10643241554498672\n",
      "Epoch 1000: perdida entrenamiento: 0.09832267463207245\n",
      "Epoch 1000: perdida entrenamiento: 0.11528120189905167\n",
      "Epoch 1000: perdida entrenamiento: 0.1123315691947937\n",
      "Epoch 1000: perdida entrenamiento: 0.09610365331172943\n",
      "Epoch 1000: perdida entrenamiento: 0.10495655238628387\n",
      "Epoch 1000: perdida entrenamiento: 0.10347828269004822\n",
      "Epoch 1000: perdida entrenamiento: 0.1241513341665268\n"
     ]
    },
    {
     "name": "stdout",
     "output_type": "stream",
     "text": [
      "Epoch 1000: perdida entrenamiento: 0.11455310881137848\n",
      "Epoch 1000: perdida entrenamiento: 0.10421616584062576\n",
      "Epoch 1000: perdida entrenamiento: 0.10938311368227005\n",
      "Epoch 1000: perdida entrenamiento: 0.09388309717178345\n",
      "Epoch 1000: perdida entrenamiento: 0.10790747404098511\n",
      "Epoch 1000: perdida entrenamiento: 0.10421725362539291\n",
      "Epoch 1000: perdida entrenamiento: 0.09387889504432678\n",
      "Epoch 1000: perdida entrenamiento: 0.11529381573200226\n",
      "Epoch 1000: perdida entrenamiento: 0.09978170692920685\n",
      "Epoch 1000: perdida entrenamiento: 0.10421225428581238\n",
      "Epoch 1000: perdida entrenamiento: 0.10790953040122986\n",
      "Epoch 1000: perdida entrenamiento: 0.10125236213207245\n",
      "Epoch 1000: perdida entrenamiento: 0.10938974469900131\n",
      "Epoch 1000: perdida entrenamiento: 0.11530952900648117\n",
      "Epoch 1000: perdida entrenamiento: 0.10938959568738937\n",
      "Epoch 1000: perdida entrenamiento: 0.10050848871469498\n",
      "Epoch 1000: perdida entrenamiento: 0.11975312232971191\n",
      "Epoch 1000: perdida entrenamiento: 0.0997684970498085\n",
      "Epoch 1000: perdida entrenamiento: 0.10198848694562912\n",
      "Epoch 1000: perdida entrenamiento: 0.10494942218065262\n",
      "Epoch 1000: perdida entrenamiento: 0.11309203505516052\n",
      "Epoch 1000: perdida entrenamiento: 0.10272954404354095\n",
      "Epoch 1000: perdida entrenamiento: 0.11531244218349457\n",
      "Epoch 1000: perdida entrenamiento: 0.11678891628980637\n",
      "Epoch 1000: perdida entrenamiento: 0.11456845700740814\n",
      "Epoch 1000: perdida entrenamiento: 0.10199302434921265\n",
      "Epoch 1000: perdida entrenamiento: 0.11751957982778549\n",
      "Epoch 1000: perdida entrenamiento: 0.11603590846061707\n",
      "Epoch 1000: perdida entrenamiento: 0.09535561501979828\n",
      "Epoch 1000: perdida entrenamiento: 0.1005253717303276\n",
      "Epoch 1000: perdida entrenamiento: 0.11012077331542969\n",
      "Epoch 1000: perdida entrenamiento: 0.11897431313991547\n",
      "Epoch 1000: perdida entrenamiento: 0.11896826326847076\n",
      "Epoch 1000: perdida entrenamiento: 0.09832438081502914\n",
      "Epoch 1000: perdida entrenamiento: 0.11822175979614258\n",
      "Epoch 1000: perdida entrenamiento: 0.09686075896024704\n",
      "Epoch 1000: perdida entrenamiento: 0.1005440428853035\n",
      "Epoch 1000: perdida entrenamiento: 0.10864205658435822\n",
      "Epoch 1000: perdida entrenamiento: 0.10864218324422836\n",
      "Epoch 1000: perdida entrenamiento: 0.1034911647439003\n",
      "Epoch 1000: perdida entrenamiento: 0.11673801392316818\n",
      "Epoch 1000: perdida entrenamiento: 0.10349190980195999\n",
      "Epoch 1000: perdida entrenamiento: 0.11820685863494873\n",
      "Epoch 1000: perdida entrenamiento: 0.10275690257549286\n",
      "Epoch 1000: perdida entrenamiento: 0.11526235938072205\n",
      "Epoch 1000: perdida entrenamiento: 0.09467071294784546\n",
      "Epoch 1000: perdida entrenamiento: 0.10864244401454926\n",
      "Epoch 1000: perdida entrenamiento: 0.09981811046600342\n",
      "Epoch 1000: perdida entrenamiento: 0.1049640104174614\n",
      "Epoch 1000: perdida entrenamiento: 0.11231940984725952\n",
      "Epoch 1000: perdida entrenamiento: 0.09760540723800659\n",
      "Epoch 1000: perdida entrenamiento: 0.10054586082696915\n",
      "Epoch 1000: perdida entrenamiento: 0.10348861664533615\n",
      "Epoch 1000: perdida entrenamiento: 0.11822017282247543\n",
      "Epoch 1000: perdida entrenamiento: 0.10938090085983276\n",
      "Epoch 1000: perdida entrenamiento: 0.1101171001791954\n",
      "Epoch 1000: perdida entrenamiento: 0.09979686886072159\n",
      "Epoch 1000: perdida entrenamiento: 0.10938233137130737\n",
      "Epoch 1000: perdida entrenamiento: 0.11675567924976349\n",
      "Epoch 1000: perdida entrenamiento: 0.09758252650499344\n",
      "Epoch 1000: perdida entrenamiento: 0.11306922137737274\n",
      "Epoch 1000: perdida entrenamiento: 0.10421805083751678\n",
      "Epoch 1000: perdida entrenamiento: 0.10348044335842133\n",
      "Epoch 1000: perdida entrenamiento: 0.10495619475841522\n",
      "Epoch 1000: perdida entrenamiento: 0.10569275915622711\n",
      "Epoch 1000: perdida entrenamiento: 0.12045488506555557\n",
      "Epoch 1000: perdida entrenamiento: 0.11381138116121292\n",
      "Epoch 1000: perdida entrenamiento: 0.1167616993188858\n",
      "Epoch 1000: perdida entrenamiento: 0.10348068922758102\n",
      "Epoch 1000: perdida entrenamiento: 0.11011901497840881\n",
      "Epoch 1000: perdida entrenamiento: 0.10348372161388397\n",
      "Epoch 1000: perdida entrenamiento: 0.11748744547367096\n",
      "Epoch 1000: perdida entrenamiento: 0.10569658875465393\n",
      "Epoch 1000: perdida entrenamiento: 0.10643234848976135\n",
      "Epoch 1000: perdida entrenamiento: 0.10275131464004517\n",
      "Epoch 1000: perdida entrenamiento: 0.09907039254903793\n",
      "Epoch 1000: perdida entrenamiento: 0.10348713397979736\n",
      "Epoch 1000: perdida entrenamiento: 0.11821787059307098\n",
      "Epoch 1000: perdida entrenamiento: 0.11158867180347443\n",
      "Epoch 1000: perdida entrenamiento: 0.0946507677435875\n",
      "Epoch 1000: perdida entrenamiento: 0.10422293841838837\n",
      "Epoch 1000: perdida entrenamiento: 0.10569629073143005\n",
      "Epoch 1000: perdida entrenamiento: 0.10127487778663635\n",
      "Epoch 1000: perdida entrenamiento: 0.10716867446899414\n",
      "Epoch 1000: perdida entrenamiento: 0.11306923627853394\n",
      "Epoch 1000: perdida entrenamiento: 0.11823034286499023\n",
      "Epoch 1000: perdida entrenamiento: 0.11085674166679382\n",
      "Epoch 1000: perdida entrenamiento: 0.1020091250538826\n",
      "Epoch 1000: perdida entrenamiento: 0.10643310099840164\n",
      "Epoch 1000: perdida entrenamiento: 0.11675591766834259\n",
      "Epoch 1000: perdida entrenamiento: 0.10348351299762726\n",
      "Epoch 1000: perdida entrenamiento: 0.11601429432630539\n",
      "Epoch 1000: perdida entrenamiento: 0.10053667426109314\n",
      "Epoch 1000: perdida entrenamiento: 0.10569651424884796\n",
      "Epoch 1000: perdida entrenamiento: 0.10569670051336288\n",
      "Epoch 1000: perdida entrenamiento: 0.1064331978559494\n",
      "Epoch 1000: perdida entrenamiento: 0.11896049976348877\n",
      "Epoch 1000: perdida entrenamiento: 0.1152748242020607\n",
      "Epoch 1000: perdida entrenamiento: 0.1079060286283493\n",
      "Epoch 1000: perdida entrenamiento: 0.10128005594015121\n",
      "Epoch 1000: perdida entrenamiento: 0.1049615889787674\n",
      "Epoch 1000: perdida entrenamiento: 0.09539023786783218\n",
      "Epoch 1000: perdida entrenamiento: 0.10717087984085083\n",
      "Epoch 1000: perdida entrenamiento: 0.10937941819429398\n",
      "Epoch 1000: perdida entrenamiento: 0.10643267631530762\n",
      "Epoch 1000: perdida entrenamiento: 0.11306281387805939\n",
      "Epoch 1000: perdida entrenamiento: 0.09980164468288422\n",
      "Epoch 1000: perdida entrenamiento: 0.11306483298540115\n",
      "Epoch 1000: perdida entrenamiento: 0.10053788870573044\n",
      "Epoch 1000: perdida entrenamiento: 0.1071692407131195\n",
      "Epoch 1000: perdida entrenamiento: 0.1086435467004776\n"
     ]
    },
    {
     "ename": "KeyboardInterrupt",
     "evalue": "",
     "output_type": "error",
     "traceback": [
      "\u001b[1;31m---------------------------------------------------------------------------\u001b[0m",
      "\u001b[1;31mKeyboardInterrupt\u001b[0m                         Traceback (most recent call last)",
      "\u001b[1;32m<ipython-input-99-905fb3735b25>\u001b[0m in \u001b[0;36m<module>\u001b[1;34m\u001b[0m\n\u001b[1;32m----> 1\u001b[1;33m \u001b[0msgd\u001b[0m\u001b[1;33m(\u001b[0m\u001b[1;36m5\u001b[0m\u001b[1;33m,\u001b[0m \u001b[1;36m30\u001b[0m\u001b[1;33m,\u001b[0m \u001b[1;36m0.1\u001b[0m\u001b[1;33m,\u001b[0m \u001b[1;36m0.9\u001b[0m\u001b[1;33m,\u001b[0m \u001b[1;36m5000\u001b[0m\u001b[1;33m,\u001b[0m \u001b[0mx_train_norm_p\u001b[0m\u001b[1;33m,\u001b[0m \u001b[0my_train\u001b[0m\u001b[1;33m,\u001b[0m \u001b[0mx_test_norm_p\u001b[0m\u001b[1;33m,\u001b[0m \u001b[0my_test\u001b[0m\u001b[1;33m,\u001b[0m \u001b[1;36m1024\u001b[0m\u001b[1;33m)\u001b[0m\u001b[1;33m\u001b[0m\u001b[1;33m\u001b[0m\u001b[0m\n\u001b[0m",
      "\u001b[1;32m<ipython-input-90-9491bf0759fe>\u001b[0m in \u001b[0;36msgd\u001b[1;34m(inputs, hidden_nodes, lr, momentum, epoch, x_train, y_train, x_test, y_test, batch_size)\u001b[0m\n\u001b[0;32m     18\u001b[0m \u001b[1;33m\u001b[0m\u001b[0m\n\u001b[0;32m     19\u001b[0m       \u001b[1;31m# Pase adelantado\u001b[0m\u001b[1;33m\u001b[0m\u001b[1;33m\u001b[0m\u001b[1;33m\u001b[0m\u001b[0m\n\u001b[1;32m---> 20\u001b[1;33m       \u001b[0my_pred\u001b[0m \u001b[1;33m=\u001b[0m \u001b[0mmodel\u001b[0m\u001b[1;33m(\u001b[0m\u001b[0mx_batch\u001b[0m\u001b[1;33m)\u001b[0m\u001b[1;33m\u001b[0m\u001b[1;33m\u001b[0m\u001b[0m\n\u001b[0m\u001b[0;32m     21\u001b[0m       \u001b[1;31m# Pérdida computacional\u001b[0m\u001b[1;33m\u001b[0m\u001b[1;33m\u001b[0m\u001b[1;33m\u001b[0m\u001b[0m\n\u001b[0;32m     22\u001b[0m       \u001b[0mloss\u001b[0m \u001b[1;33m=\u001b[0m \u001b[0mcriterion\u001b[0m\u001b[1;33m(\u001b[0m\u001b[0my_pred\u001b[0m\u001b[1;33m.\u001b[0m\u001b[0msqueeze\u001b[0m\u001b[1;33m(\u001b[0m\u001b[1;33m)\u001b[0m\u001b[1;33m,\u001b[0m \u001b[0my_batch\u001b[0m\u001b[1;33m)\u001b[0m\u001b[1;33m\u001b[0m\u001b[1;33m\u001b[0m\u001b[0m\n",
      "\u001b[1;32m~\\AppData\\Local\\Continuum\\anaconda3\\lib\\site-packages\\torch\\nn\\modules\\module.py\u001b[0m in \u001b[0;36m_call_impl\u001b[1;34m(self, *input, **kwargs)\u001b[0m\n\u001b[0;32m    720\u001b[0m             \u001b[0mresult\u001b[0m \u001b[1;33m=\u001b[0m \u001b[0mself\u001b[0m\u001b[1;33m.\u001b[0m\u001b[0m_slow_forward\u001b[0m\u001b[1;33m(\u001b[0m\u001b[1;33m*\u001b[0m\u001b[0minput\u001b[0m\u001b[1;33m,\u001b[0m \u001b[1;33m**\u001b[0m\u001b[0mkwargs\u001b[0m\u001b[1;33m)\u001b[0m\u001b[1;33m\u001b[0m\u001b[1;33m\u001b[0m\u001b[0m\n\u001b[0;32m    721\u001b[0m         \u001b[1;32melse\u001b[0m\u001b[1;33m:\u001b[0m\u001b[1;33m\u001b[0m\u001b[1;33m\u001b[0m\u001b[0m\n\u001b[1;32m--> 722\u001b[1;33m             \u001b[0mresult\u001b[0m \u001b[1;33m=\u001b[0m \u001b[0mself\u001b[0m\u001b[1;33m.\u001b[0m\u001b[0mforward\u001b[0m\u001b[1;33m(\u001b[0m\u001b[1;33m*\u001b[0m\u001b[0minput\u001b[0m\u001b[1;33m,\u001b[0m \u001b[1;33m**\u001b[0m\u001b[0mkwargs\u001b[0m\u001b[1;33m)\u001b[0m\u001b[1;33m\u001b[0m\u001b[1;33m\u001b[0m\u001b[0m\n\u001b[0m\u001b[0;32m    723\u001b[0m         for hook in itertools.chain(\n\u001b[0;32m    724\u001b[0m                 \u001b[0m_global_forward_hooks\u001b[0m\u001b[1;33m.\u001b[0m\u001b[0mvalues\u001b[0m\u001b[1;33m(\u001b[0m\u001b[1;33m)\u001b[0m\u001b[1;33m,\u001b[0m\u001b[1;33m\u001b[0m\u001b[1;33m\u001b[0m\u001b[0m\n",
      "\u001b[1;32m<ipython-input-89-24c36eba9623>\u001b[0m in \u001b[0;36mforward\u001b[1;34m(self, x)\u001b[0m\n\u001b[0;32m     16\u001b[0m     \u001b[0mrelu\u001b[0m \u001b[1;33m=\u001b[0m \u001b[0mself\u001b[0m\u001b[1;33m.\u001b[0m\u001b[0mrelu\u001b[0m\u001b[1;33m(\u001b[0m\u001b[0mhidden\u001b[0m\u001b[1;33m)\u001b[0m\u001b[1;33m\u001b[0m\u001b[1;33m\u001b[0m\u001b[0m\n\u001b[0;32m     17\u001b[0m     \u001b[0mhidden2\u001b[0m \u001b[1;33m=\u001b[0m \u001b[0mself\u001b[0m\u001b[1;33m.\u001b[0m\u001b[0mfc2\u001b[0m\u001b[1;33m(\u001b[0m\u001b[0mrelu\u001b[0m\u001b[1;33m)\u001b[0m\u001b[1;33m\u001b[0m\u001b[1;33m\u001b[0m\u001b[0m\n\u001b[1;32m---> 18\u001b[1;33m     \u001b[0mrelu2\u001b[0m \u001b[1;33m=\u001b[0m \u001b[0mself\u001b[0m\u001b[1;33m.\u001b[0m\u001b[0mrelu\u001b[0m\u001b[1;33m(\u001b[0m\u001b[0mhidden2\u001b[0m\u001b[1;33m)\u001b[0m\u001b[1;33m\u001b[0m\u001b[1;33m\u001b[0m\u001b[0m\n\u001b[0m\u001b[0;32m     19\u001b[0m     \u001b[0mhidden3\u001b[0m \u001b[1;33m=\u001b[0m \u001b[0mself\u001b[0m\u001b[1;33m.\u001b[0m\u001b[0mfc3\u001b[0m\u001b[1;33m(\u001b[0m\u001b[0mrelu2\u001b[0m\u001b[1;33m)\u001b[0m\u001b[1;33m\u001b[0m\u001b[1;33m\u001b[0m\u001b[0m\n\u001b[0;32m     20\u001b[0m     \u001b[0mrelu3\u001b[0m \u001b[1;33m=\u001b[0m \u001b[0mself\u001b[0m\u001b[1;33m.\u001b[0m\u001b[0mrelu\u001b[0m\u001b[1;33m(\u001b[0m\u001b[0mhidden3\u001b[0m\u001b[1;33m)\u001b[0m\u001b[1;33m\u001b[0m\u001b[1;33m\u001b[0m\u001b[0m\n",
      "\u001b[1;32m~\\AppData\\Local\\Continuum\\anaconda3\\lib\\site-packages\\torch\\nn\\modules\\module.py\u001b[0m in \u001b[0;36m_call_impl\u001b[1;34m(self, *input, **kwargs)\u001b[0m\n\u001b[0;32m    720\u001b[0m             \u001b[0mresult\u001b[0m \u001b[1;33m=\u001b[0m \u001b[0mself\u001b[0m\u001b[1;33m.\u001b[0m\u001b[0m_slow_forward\u001b[0m\u001b[1;33m(\u001b[0m\u001b[1;33m*\u001b[0m\u001b[0minput\u001b[0m\u001b[1;33m,\u001b[0m \u001b[1;33m**\u001b[0m\u001b[0mkwargs\u001b[0m\u001b[1;33m)\u001b[0m\u001b[1;33m\u001b[0m\u001b[1;33m\u001b[0m\u001b[0m\n\u001b[0;32m    721\u001b[0m         \u001b[1;32melse\u001b[0m\u001b[1;33m:\u001b[0m\u001b[1;33m\u001b[0m\u001b[1;33m\u001b[0m\u001b[0m\n\u001b[1;32m--> 722\u001b[1;33m             \u001b[0mresult\u001b[0m \u001b[1;33m=\u001b[0m \u001b[0mself\u001b[0m\u001b[1;33m.\u001b[0m\u001b[0mforward\u001b[0m\u001b[1;33m(\u001b[0m\u001b[1;33m*\u001b[0m\u001b[0minput\u001b[0m\u001b[1;33m,\u001b[0m \u001b[1;33m**\u001b[0m\u001b[0mkwargs\u001b[0m\u001b[1;33m)\u001b[0m\u001b[1;33m\u001b[0m\u001b[1;33m\u001b[0m\u001b[0m\n\u001b[0m\u001b[0;32m    723\u001b[0m         for hook in itertools.chain(\n\u001b[0;32m    724\u001b[0m                 \u001b[0m_global_forward_hooks\u001b[0m\u001b[1;33m.\u001b[0m\u001b[0mvalues\u001b[0m\u001b[1;33m(\u001b[0m\u001b[1;33m)\u001b[0m\u001b[1;33m,\u001b[0m\u001b[1;33m\u001b[0m\u001b[1;33m\u001b[0m\u001b[0m\n",
      "\u001b[1;32m~\\AppData\\Local\\Continuum\\anaconda3\\lib\\site-packages\\torch\\nn\\modules\\activation.py\u001b[0m in \u001b[0;36mforward\u001b[1;34m(self, input)\u001b[0m\n\u001b[0;32m    100\u001b[0m \u001b[1;33m\u001b[0m\u001b[0m\n\u001b[0;32m    101\u001b[0m     \u001b[1;32mdef\u001b[0m \u001b[0mforward\u001b[0m\u001b[1;33m(\u001b[0m\u001b[0mself\u001b[0m\u001b[1;33m,\u001b[0m \u001b[0minput\u001b[0m\u001b[1;33m:\u001b[0m \u001b[0mTensor\u001b[0m\u001b[1;33m)\u001b[0m \u001b[1;33m->\u001b[0m \u001b[0mTensor\u001b[0m\u001b[1;33m:\u001b[0m\u001b[1;33m\u001b[0m\u001b[1;33m\u001b[0m\u001b[0m\n\u001b[1;32m--> 102\u001b[1;33m         \u001b[1;32mreturn\u001b[0m \u001b[0mF\u001b[0m\u001b[1;33m.\u001b[0m\u001b[0mrelu\u001b[0m\u001b[1;33m(\u001b[0m\u001b[0minput\u001b[0m\u001b[1;33m,\u001b[0m \u001b[0minplace\u001b[0m\u001b[1;33m=\u001b[0m\u001b[0mself\u001b[0m\u001b[1;33m.\u001b[0m\u001b[0minplace\u001b[0m\u001b[1;33m)\u001b[0m\u001b[1;33m\u001b[0m\u001b[1;33m\u001b[0m\u001b[0m\n\u001b[0m\u001b[0;32m    103\u001b[0m \u001b[1;33m\u001b[0m\u001b[0m\n\u001b[0;32m    104\u001b[0m     \u001b[1;32mdef\u001b[0m \u001b[0mextra_repr\u001b[0m\u001b[1;33m(\u001b[0m\u001b[0mself\u001b[0m\u001b[1;33m)\u001b[0m \u001b[1;33m->\u001b[0m \u001b[0mstr\u001b[0m\u001b[1;33m:\u001b[0m\u001b[1;33m\u001b[0m\u001b[1;33m\u001b[0m\u001b[0m\n",
      "\u001b[1;32m~\\AppData\\Local\\Continuum\\anaconda3\\lib\\site-packages\\torch\\nn\\functional.py\u001b[0m in \u001b[0;36mrelu\u001b[1;34m(input, inplace)\u001b[0m\n\u001b[0;32m   1117\u001b[0m         \u001b[0mresult\u001b[0m \u001b[1;33m=\u001b[0m \u001b[0mtorch\u001b[0m\u001b[1;33m.\u001b[0m\u001b[0mrelu_\u001b[0m\u001b[1;33m(\u001b[0m\u001b[0minput\u001b[0m\u001b[1;33m)\u001b[0m\u001b[1;33m\u001b[0m\u001b[1;33m\u001b[0m\u001b[0m\n\u001b[0;32m   1118\u001b[0m     \u001b[1;32melse\u001b[0m\u001b[1;33m:\u001b[0m\u001b[1;33m\u001b[0m\u001b[1;33m\u001b[0m\u001b[0m\n\u001b[1;32m-> 1119\u001b[1;33m         \u001b[0mresult\u001b[0m \u001b[1;33m=\u001b[0m \u001b[0mtorch\u001b[0m\u001b[1;33m.\u001b[0m\u001b[0mrelu\u001b[0m\u001b[1;33m(\u001b[0m\u001b[0minput\u001b[0m\u001b[1;33m)\u001b[0m\u001b[1;33m\u001b[0m\u001b[1;33m\u001b[0m\u001b[0m\n\u001b[0m\u001b[0;32m   1120\u001b[0m     \u001b[1;32mreturn\u001b[0m \u001b[0mresult\u001b[0m\u001b[1;33m\u001b[0m\u001b[1;33m\u001b[0m\u001b[0m\n\u001b[0;32m   1121\u001b[0m \u001b[1;33m\u001b[0m\u001b[0m\n",
      "\u001b[1;31mKeyboardInterrupt\u001b[0m: "
     ]
    }
   ],
   "source": [
    "sgd(5, 30, 0.1, 0.9, 5000, x_train_norm_p, y_train, x_test_norm_p, y_test, 1024)"
   ]
  },
  {
   "cell_type": "code",
   "execution_count": null,
   "metadata": {},
   "outputs": [],
   "source": []
  }
 ],
 "metadata": {
  "kernelspec": {
   "display_name": "Python 3",
   "language": "python",
   "name": "python3"
  },
  "language_info": {
   "codemirror_mode": {
    "name": "ipython",
    "version": 3
   },
   "file_extension": ".py",
   "mimetype": "text/x-python",
   "name": "python",
   "nbconvert_exporter": "python",
   "pygments_lexer": "ipython3",
   "version": "3.7.4"
  }
 },
 "nbformat": 4,
 "nbformat_minor": 2
}
